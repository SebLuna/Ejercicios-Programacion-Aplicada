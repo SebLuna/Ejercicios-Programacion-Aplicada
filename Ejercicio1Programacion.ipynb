{
  "nbformat": 4,
  "nbformat_minor": 0,
  "metadata": {
    "colab": {
      "provenance": [],
      "collapsed_sections": [],
      "authorship_tag": "ABX9TyN29sxypX/zq+uE55PDOhZG",
      "include_colab_link": true
    },
    "kernelspec": {
      "name": "python3",
      "display_name": "Python 3"
    },
    "language_info": {
      "name": "python"
    }
  },
  "cells": [
    {
      "cell_type": "markdown",
      "metadata": {
        "id": "view-in-github",
        "colab_type": "text"
      },
      "source": [
        "<a href=\"https://colab.research.google.com/github/SebLuna/Ejercicios-Programacion-Aplicada/blob/main/Ejercicio1Programacion.ipynb\" target=\"_parent\"><img src=\"https://colab.research.google.com/assets/colab-badge.svg\" alt=\"Open In Colab\"/></a>"
      ]
    },
    {
      "cell_type": "code",
      "execution_count": null,
      "metadata": {
        "colab": {
          "base_uri": "https://localhost:8080/"
        },
        "id": "UX_BBfgCHOLG",
        "outputId": "4a0c7722-76f3-463f-c156-316577050322"
      },
      "outputs": [
        {
          "output_type": "stream",
          "name": "stdout",
          "text": [
            "Hola Mundo\n",
            "Ingrese su nombre: pepe\n",
            "Hola pepe\n",
            "Ingrese su altura: 1.74\n",
            "Su IMC es de:  72.66\n"
          ]
        }
      ],
      "source": [
        "print(\"Hola Mundo\")\n",
        "\n",
        "\n",
        "nombre=input(\"Ingrese su nombre: \")\n",
        "print(\"Hola\",nombre)\n",
        "\n",
        "imc=24\n",
        "altura=float(input(\"Ingrese su altura: \"))\n",
        "\n",
        "altura2=altura**2\n",
        "peso=altura2*imc\n",
        "\n",
        "print(\"Su IMC es de: \",round(peso,2) )\n",
        "\n",
        "\n",
        "\n"
      ]
    },
    {
      "cell_type": "code",
      "source": [
        "num1=int(input(\"Introduce un numero para definir el intervalo menor: \"))\n",
        "\n",
        "num2 = int(input(\"Introduce un numero para definir el intervalo mayor: \"))\n",
        " \n",
        "if (num2<num1): \n",
        "  print(\"!!ERROR¡¡, no se puede operar\")\n",
        " \n",
        "else:\n",
        "  for i in range(num1, num2+1,  ):\n",
        "  \n",
        "    print(i)"
      ],
      "metadata": {
        "colab": {
          "base_uri": "https://localhost:8080/"
        },
        "id": "3ngRh6LZNNuj",
        "outputId": "98d6231c-1b69-4e0e-eec1-6b82366c7b27"
      },
      "execution_count": null,
      "outputs": [
        {
          "output_type": "stream",
          "name": "stdout",
          "text": [
            "Introduce un numero para definir el intervalo menor: 10\n",
            "Introduce un numero para definir el intervalo mayor: 4\n",
            "!!ERROR¡¡, no se puede operar\n"
          ]
        }
      ]
    },
    {
      "cell_type": "code",
      "source": [
        "from datetime import datetime,timedelta\n",
        "from time import strftime\n",
        "\n",
        "now= datetime.now()\n",
        "now_less_5hours=now - timedelta(hours=5)\n",
        "\n",
        "current_time= now_less_5hours.strftime(\"%H,%M,%S\")\n",
        "(\"Current Time =\",current_time)\n",
        "(now_less_5hours.isoweekday())\n",
        "\n",
        "dia=now_less_5hours.isoweekday()\n",
        "if(dia==2 or 4):\n",
        "  print(\"Hay clase\")\n",
        "\n",
        "else:\n",
        "   print(\"No hay clase\") \n",
        "\n",
        "\n"
      ],
      "metadata": {
        "colab": {
          "base_uri": "https://localhost:8080/"
        },
        "id": "zjkm3m7JVbuf",
        "outputId": "45466257-0485-4a35-e7de-9bd32e4f0e25"
      },
      "execution_count": 28,
      "outputs": [
        {
          "output_type": "stream",
          "name": "stdout",
          "text": [
            "Hay clase\n"
          ]
        }
      ]
    },
    {
      "cell_type": "code",
      "source": [
        "key = \"contrasena\"\n",
        "password = input(\"Introduce la contrasena: \")\n",
        "if key == password.lower():\n",
        "    print(\"Ha ingresado con exito\")\n",
        "else:\n",
        "  while True:\n",
        "    entrada=input(\"La contrasena es incorrecta,vuelva a intentarlo o escriba ´exit´para salir \")\n",
        "    if (entrada==\"contrasena\"):\n",
        "      print(\"Ha ingresado con exito\")\n",
        "      break\n",
        "    elif (entrada==\"exit\"):\n",
        "        print(\"Ha salido con exito\")\n",
        "        break\n",
        "      \n",
        "  \n",
        "     \n",
        "    \n",
        "    \n",
        "    "
      ],
      "metadata": {
        "colab": {
          "base_uri": "https://localhost:8080/"
        },
        "id": "h7qYNcuybcWE",
        "outputId": "41ff70e4-f10d-4509-c868-17882c8177be"
      },
      "execution_count": 97,
      "outputs": [
        {
          "output_type": "stream",
          "name": "stdout",
          "text": [
            "Introduce la contrasena: contrasena\n",
            "Ha ingresado con exito\n"
          ]
        }
      ]
    }
  ]
}