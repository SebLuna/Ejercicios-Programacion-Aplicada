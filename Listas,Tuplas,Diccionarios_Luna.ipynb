{
  "nbformat": 4,
  "nbformat_minor": 0,
  "metadata": {
    "colab": {
      "provenance": [],
      "collapsed_sections": [],
      "authorship_tag": "ABX9TyOuBUyGgH3Z1LQNsHC+SV6R",
      "include_colab_link": true
    },
    "kernelspec": {
      "name": "python3",
      "display_name": "Python 3"
    },
    "language_info": {
      "name": "python"
    }
  },
  "cells": [
    {
      "cell_type": "markdown",
      "metadata": {
        "id": "view-in-github",
        "colab_type": "text"
      },
      "source": [
        "<a href=\"https://colab.research.google.com/github/SebLuna/Ejercicios-Programacion-Aplicada/blob/main/Listas%2CTuplas%2CDiccionarios_Luna.ipynb\" target=\"_parent\"><img src=\"https://colab.research.google.com/assets/colab-badge.svg\" alt=\"Open In Colab\"/></a>"
      ]
    },
    {
      "cell_type": "code",
      "execution_count": null,
      "metadata": {
        "id": "WiEZpmhbY3VL"
      },
      "outputs": [],
      "source": [
        "\n",
        "#EJERCICIO 1 LISTA\n",
        "cantidad=(int(input(\"Ingrese la cantidad de materias que cursa\")))\n",
        "\n",
        "Materias=[]\n",
        "for i in range(cantidad):\n",
        "    Materias.append(input(\"Introduce las materias\"))\n",
        "\n",
        "print(\"Las materias que esta cursando son: \"+ str(Materias))"
      ]
    },
    {
      "cell_type": "code",
      "source": [
        "#EJERCICIO 2 LISTAS\n",
        "cantidad=(int(input(\"Ingrese la cantidad de materias que cursa \")))\n",
        "\n",
        "Materias= []\n",
        "notas = []\n",
        "for i in range(cantidad):\n",
        "    Materias.append(input(\"Introduce las materias  \"))\n",
        "    \n",
        "for Materias in Materias:\n",
        "    nota = input(\"¿Qué nota espera sacar en \" + Materias + \"?\")\n",
        "    notas.append(nota)\n",
        "    print(notas)\n"
      ],
      "metadata": {
        "id": "vS4DoCODh0N-"
      },
      "execution_count": null,
      "outputs": []
    },
    {
      "cell_type": "code",
      "source": [
        "#EJERCICIO 3 LISTAS\n",
        "cant=(int(input(\"Ingrese la cantidad de materias que cursa \")))\n",
        "\n",
        "Materias=[]\n",
        "Notas=[]\n",
        "\n",
        "\n",
        "for i in range(cant):\n",
        "    Materias.append(input(\"Introduce las materias: \"))\n",
        "  \n",
        "for Materia in Materias:\n",
        "  nota = (float(input(\"¿Qué nota espera sacar en \" + Materia + \"?\")))\n",
        "  Notas.append(nota)\n",
        "   \n",
        "aprobadas=[]\n",
        "reprobadas=[]\n",
        "\n",
        "for i in range(len(Materias)):\n",
        " if Notas[i]  <3:\n",
        "  reprobadas.append(Materias[i])\n",
        "\n",
        " else:\n",
        "  aprobadas.append(Materias[i])\n",
        "\n",
        "print(\"Usted aprobo\",aprobadas)\n",
        "print(\"Usted reprobo\",reprobadas)\n",
        "\n"
      ],
      "metadata": {
        "id": "UpZ_Y9fKkIBz"
      },
      "execution_count": null,
      "outputs": []
    },
    {
      "cell_type": "code",
      "source": [
        "\n",
        "\n",
        "   #EJERCICIO 4 LISTAS\n",
        " def esPalindromo(palabra):\n",
        "\n",
        "   \n",
        "  palabra= palabra.lower()\n",
        "  palabra=palabra.replace(\" \",\"\")\n",
        "  palabra= palabra.replace(\"á\",\"a\")\n",
        "  palabra= palabra.replace(\"é\",\"e\")\n",
        "  palabra= palabra.replace(\"í\",\"i\")\n",
        "  palabra= palabra.replace(\"ó\",\"o\")\n",
        "  palabra= palabra.replace(\"ú\",\"u\")\n",
        "  \n",
        "\n",
        "  a=0\n",
        "  b= len(palabra) -1\n",
        "\n",
        "  for i in range(0,len(palabra)):\n",
        "    if palabra[a]== palabra[b]:\n",
        "      a+=1\n",
        "      b-=1\n",
        "    else:\n",
        "       return False\n",
        "\n",
        "    return True\n",
        "palabra=input(\"Ingrese una palabra o una frase \")\n",
        "print()\n",
        "  \n",
        "if esPalindromo(palabra):\n",
        "\n",
        "      print(\"Es una frase o palabra palindroma\")\n",
        "else:\n",
        "       print(\"No es una palabra o frase palindroma\")\n",
        "   \n",
        "\n",
        "          "
      ],
      "metadata": {
        "id": "PBqny1wOZCHx",
        "colab": {
          "base_uri": "https://localhost:8080/"
        },
        "outputId": "d3f7e4ea-4c11-46f9-fe5e-15bf783c6139"
      },
      "execution_count": 27,
      "outputs": [
        {
          "output_type": "stream",
          "name": "stdout",
          "text": [
            "Ingrese una palabra o una frase ana\n",
            "\n",
            "Es una frase o palabra palindroma\n"
          ]
        }
      ]
    },
    {
      "cell_type": "code",
      "source": [
        "#EJERCICIO 5 LISTAS\n",
        "##revisar\n",
        "import numpy\n",
        "v1str=input(\"Ingrese los valores del vector 1 separados por comas\")\n",
        "v1=v1str.split(',')\n",
        "v1=[float(element)for element in v1]\n",
        "\n",
        "v2str=input(\"Ingrese los valores del vector 2 separados por comas\")\n",
        "v2=v2str.split(',')\n",
        "v2=[float(element)for element in v2]\n",
        "\n",
        "\n",
        "res=numpy.dot(v1,v2)\n",
        "\n",
        "print(\"El producto escalar es:\", res)"
      ],
      "metadata": {
        "id": "5BTIJpWSgeRT",
        "colab": {
          "base_uri": "https://localhost:8080/"
        },
        "outputId": "ad3bfba1-cbf8-45c8-a974-00a96bebf4c1"
      },
      "execution_count": null,
      "outputs": [
        {
          "output_type": "stream",
          "name": "stdout",
          "text": [
            "Ingrese los valores del vector 1 separados por comas2,3\n",
            "Ingrese los valores del vector 2 separados por comas3,5\n",
            "El producto escalar es: 21.0\n"
          ]
        }
      ]
    },
    {
      "cell_type": "code",
      "source": [
        "#EJERCICIO 6 LISTAS\n",
        "import numpy\n",
        "Numeros=[]\n",
        "#numero= input(\"Ingrese un numero si desea continuar, de lo contrario digite la palabra 'fin' \")\n",
        "#Numeros.append(numero)\n",
        "\n",
        "while (True):\n",
        "   \n",
        "    numero=input(\"Ingrese un numero si desea continuar, de lo contrario digite la palabra 'fin' \")\n",
        "    if numero.lower () != (\"fin\"):\n",
        "      Numeros.append(int(numero))\n",
        "    if numero.lower () == (\"fin\"):\n",
        "      #Numeros.pop()\n",
        "      m=numpy.mean(Numeros)\n",
        "      std=numpy.std(Numeros)\n",
        "      print(m)\n",
        "      print(std)\n",
        "      print(Numeros)\n",
        "      break\n",
        "\n",
        "\n",
        "\n",
        "   \n",
        "  \n",
        "      \n",
        "   \n",
        "#  m=numpy.mean([])\n",
        "#  std=numpy.std([])\n",
        "   \n",
        "      \n",
        "    \n",
        "  "
      ],
      "metadata": {
        "id": "iSXEzLKKkfL5"
      },
      "execution_count": null,
      "outputs": []
    },
    {
      "cell_type": "code",
      "source": [
        "#EJERCICIO 7 LISTAS\n",
        "cambio=int(input(\"Ingrese el monto que paga el usuario\"))\n",
        "monto_a_pagar=int(input(\"Ingrese el total a pagar \"))\n",
        "cambio=cambio-monto_a_pagar\n",
        "if (cambio==0):\n",
        " print(\"Es exacto, no es necesario dar cambio\")\n",
        "elif (cambio<0):\n",
        "  print(\"Falta dinero, la cantidad faltante es: \",cambio*-1)\n",
        "else :\n",
        "    print(\"Ha pagado con mas dinero, su cambio es: \",cambio)\n",
        "    denominaciones=[100000,50000,20000,10000,5000,2000,1000,500,200,100,50]\n",
        "    for denominacion in denominaciones:\n",
        "     cantidad=cambio//denominacion\n",
        "     cambio=cambio%denominacion\n",
        "     if cantidad>0:\n",
        "      print(cantidad,\"de \",denominacion)"
      ],
      "metadata": {
        "id": "MexzamlQR_wy"
      },
      "execution_count": null,
      "outputs": []
    },
    {
      "cell_type": "code",
      "source": [
        "#EJERCICIO 1 DICCIONARIOS\n",
        "divisa = {\"Euro\":'€', 'Dollar':'$', 'Yen':'¥'}\n",
        "dato = input(\"Introduce una divisa: \")\n",
        "if dato.title() in divisa:\n",
        "    print(\"La divisa es\",divisa[dato.title()])\n",
        "else:\n",
        "    print(\"La divisa no esta en el diccionario.\")"
      ],
      "metadata": {
        "id": "JN_Uq2RetppU"
      },
      "execution_count": null,
      "outputs": []
    },
    {
      "cell_type": "code",
      "source": [
        "#EJERCICIO 2 DICCIONARIOS\n",
        "Datos = {}\n",
        "nombre = input('Nombre del alumno: ')\n",
        "edad = int(input('Edad: '))\n",
        "direccion = (input('Direccion: '))\n",
        "telefono = int(input('Telefono: '))\n",
        "\n",
        "Datos[''] = nombre\n",
        "Datos[''] = edad\n",
        "Datos[''] = direccion\n",
        "Datos['']=telefono\n",
        "print(\"\\n\",nombre,\"tiene\",edad,\"años\",\"vive en\",direccion,\"y su numero de telefono es\",telefono)"
      ],
      "metadata": {
        "id": "DKOmoNOgwMEt"
      },
      "execution_count": null,
      "outputs": []
    },
    {
      "cell_type": "code",
      "source": [
        "#EJERCICIO 3 DICCIONARIOS\n",
        "fruta = {\n",
        "            'Platano': 1.35,\n",
        "           'Manzana':0.80,\n",
        "            'Pera':0.85,\n",
        "            'Naranja': 0.70,\n",
        "            \n",
        "}\n",
        "frutas=input(\"¿Que fruta desea llevar?\")\n",
        "if frutas in fruta:\n",
        "  kg=int(input(\"¿Cuantos kilos desea llevar?\"))\n",
        "  print(kg,\"kilos de \", frutas, \"valen \",fruta[frutas]*kg, \"$\")\n",
        "\n",
        "else:\n",
        "   print(\"La fruta ingresada no se encuentra disponible\") \n",
        "\n",
        "\n",
        " \n",
        "\n",
        " \n",
        "\n"
      ],
      "metadata": {
        "id": "II8Z5GHPzZ_R"
      },
      "execution_count": null,
      "outputs": []
    },
    {
      "cell_type": "code",
      "source": [
        "\n",
        "#EJERCICIO 4 DICCIONARIOS\n",
        "cesta = {}\n",
        "continuar = True\n",
        "while continuar:\n",
        "    item = input('Introduce un artículo: ')\n",
        "    precio = float(input('Introduce el precio de ' + item + ': '))\n",
        "    cesta[item] = precio\n",
        "    continuar = input('¿Quieres añadir artículos a la lista (Si/No)? ') == \"Si\"\n",
        "coste = 0\n",
        "print('Lista de la compra')\n",
        "for item, precio in cesta.items():\n",
        "    print(item, '\\t', precio)\n",
        "    coste += precio\n",
        "print('Coste total: ', coste)\n"
      ],
      "metadata": {
        "id": "w-t0GCEHk1w2"
      },
      "execution_count": null,
      "outputs": []
    },
    {
      "cell_type": "code",
      "source": [
        "#EJERCICIO 5 DICCIONARIOS\n",
        "clientes = {}\n",
        "opcion = ''\n",
        "while opcion != '6':\n",
        "    if opcion == '1':\n",
        "        nif = input('Introduce NIF del cliente: ')\n",
        "        nombre = input('Introduce el nombre del cliente: ')\n",
        "        direccion = input('Introduce la dirección del cliente: ')\n",
        "        telefono = input('Introduce el teléfono del cliente: ')\n",
        "        email = input('Introduce el correo electrónico del cliente: ')\n",
        "        vip = input('¿Es un cliente preferente (S/N)? ')\n",
        "        cliente = {'nombre':nombre, 'dirección':direccion, 'teléfono':telefono, 'email':email, 'preferente':vip=='S'}\n",
        "        clientes[nif] = cliente\n",
        "    if opcion == '2':\n",
        "        nif = input('Introduce NIF del cliente: ')\n",
        "        if nif in clientes:\n",
        "            del clientes[nif]\n",
        "            print(\"Ha eliminado al cliente\")\n",
        "        else:\n",
        "            print('No existe el cliente con el nif', nif)\n",
        "    if opcion == '3':\n",
        "        nif = input('Introduce NIF del cliente: ')\n",
        "        if nif in clientes:\n",
        "            print('NIF:', nif)\n",
        "            for clave, valor in clientes[nif].items():\n",
        "                print(clave.title() + ':', valor)\n",
        "        else:\n",
        "            print('No existe el cliente con el nif', nif)\n",
        "    if opcion == '4':\n",
        "        print('Lista de clientes')\n",
        "        for clave, valor in clientes.items():\n",
        "            print(clave, valor['nombre'])\n",
        "    if opcion == '5':\n",
        "        print('Lista de clientes preferentes')\n",
        "        for clave, valor in clientes.items():\n",
        "            if valor['preferente']:\n",
        "                print(clave, valor['nombre'])\n",
        "    opcion = input('Menú de opciones\\n(1) Añadir cliente\\n(2) Eliminar cliente\\n(3) Mostrar cliente\\n(4) Listar clientes\\n(5) Listar clientes preferentes\\n(6) Terminar\\nElige una opción:')"
      ],
      "metadata": {
        "id": "3qjpstbzC_Qk"
      },
      "execution_count": null,
      "outputs": []
    },
    {
      "cell_type": "code",
      "source": [],
      "metadata": {
        "id": "UcFP_BKOFa3g"
      },
      "execution_count": null,
      "outputs": []
    }
  ]
}